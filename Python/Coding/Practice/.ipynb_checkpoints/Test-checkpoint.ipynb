{
 "cells": [
  {
   "cell_type": "code",
   "execution_count": 19,
   "metadata": {},
   "outputs": [
    {
     "name": "stdout",
     "output_type": "stream",
     "text": [
      "1 2\n",
      "3 4\n",
      "5 6\n"
     ]
    }
   ],
   "source": [
    "mylist=[(1,2),(3,4),(5,6)]\n",
    "for a,b in mylist:\n",
    "    print(a,b)"
   ]
  },
  {
   "cell_type": "code",
   "execution_count": 24,
   "metadata": {},
   "outputs": [
    {
     "name": "stdout",
     "output_type": "stream",
     "text": [
      "1\n",
      "2\n"
     ]
    }
   ],
   "source": [
    "x=[1,2,3,4,5]\n",
    "for num in x:\n",
    "    print(num)\n",
    "    if num == 2:\n",
    "        break"
   ]
  },
  {
   "cell_type": "code",
   "execution_count": 3,
   "metadata": {},
   "outputs": [
    {
     "name": "stdout",
     "output_type": "stream",
     "text": [
      "0\n",
      "6\n",
      "\n",
      "\n",
      "1\n",
      "7\n",
      "\n",
      "\n",
      "2\n",
      "8\n",
      "\n",
      "\n",
      "3\n",
      "9\n",
      "\n",
      "\n",
      "4\n",
      "10\n",
      "\n",
      "\n"
     ]
    }
   ],
   "source": [
    "mylist = [6,7,8,9,10]\n",
    "for a,b in enumerate(mylist):\n",
    "    print(a)\n",
    "    print(b)\n",
    "    print('\\n')\n"
   ]
  },
  {
   "cell_type": "code",
   "execution_count": 6,
   "metadata": {},
   "outputs": [
    {
     "name": "stdout",
     "output_type": "stream",
     "text": [
      "(10, 1)\n",
      "(20, 2)\n"
     ]
    }
   ],
   "source": [
    "mylist1=[1,2,3,4,5]\n",
    "mylist2=[10,20]\n",
    "for item in zip(mylist2,mylist1):\n",
    "    print(item)"
   ]
  },
  {
   "cell_type": "code",
   "execution_count": 10,
   "metadata": {},
   "outputs": [
    {
     "name": "stdout",
     "output_type": "stream",
     "text": [
      "10\n"
     ]
    }
   ],
   "source": [
    "mylist1=[1,2,3,4,5]\n",
    "mylist2=[10,20]\n",
    "for num in mylist2:\n",
    "    mylist1.append(num)\n",
    "print(mylist1[5])"
   ]
  },
  {
   "cell_type": "code",
   "execution_count": 3,
   "metadata": {},
   "outputs": [
    {
     "data": {
      "text/plain": [
       "True"
      ]
     },
     "execution_count": 3,
     "metadata": {},
     "output_type": "execute_result"
    }
   ],
   "source": [
    "'x' in 'xys'"
   ]
  },
  {
   "cell_type": "code",
   "execution_count": 13,
   "metadata": {},
   "outputs": [
    {
     "data": {
      "text/plain": [
       "[0, 1, 2, 3, 4, 5, 6, 7, 8, 9, 10]"
      ]
     },
     "execution_count": 13,
     "metadata": {},
     "output_type": "execute_result"
    }
   ],
   "source": [
    "mylist=list(range(0,11))\n",
    "mylist"
   ]
  },
  {
   "cell_type": "code",
   "execution_count": 1,
   "metadata": {},
   "outputs": [],
   "source": [
    "from random import randint"
   ]
  },
  {
   "cell_type": "code",
   "execution_count": 3,
   "metadata": {},
   "outputs": [
    {
     "name": "stdout",
     "output_type": "stream",
     "text": [
      "99\n",
      "Please Enter Your Guess: 11\n",
      "COLD\n",
      "Please Enter Your Guess: 35\n",
      "WARMER\n",
      "Please Enter Your Guess: 12\n",
      "COLDER\n",
      "Please Enter Your Guess: 99\n",
      "You have Guessed Correctly! Congrats!!!\n",
      "Number of Guesses : 4\n"
     ]
    }
   ],
   "source": [
    "goal = randint(0,101)\n",
    "print(goal)\n",
    "flag=False\n",
    "counter=0\n",
    "\n",
    "while flag == False:\n",
    "    guess = int(input('Please Enter Your Guess: '))\n",
    "    counter= counter + 1\n",
    "    if guess == goal:\n",
    "        print('You have Guessed Correctly! Congrats!!!')\n",
    "        print(f'Number of Guesses : {counter}')\n",
    "        flag=True\n",
    "    elif guess<1 or guess>100:\n",
    "        print('Out of Bounds!')\n",
    "    elif counter == 1:\n",
    "        if abs(guess-goal)<10:\n",
    "            print('WARM')\n",
    "        else:\n",
    "            print('COLD')\n",
    "    elif counter>1:\n",
    "        if abs(previous_guess-goal)>abs(guess-goal):\n",
    "            print('WARMER')\n",
    "        elif abs(previous_guess-goal)<abs(guess-goal):\n",
    "            print('COLDER')\n",
    "        else:\n",
    "            print('Nothing Has Changed!')\n",
    "    previous_guess = guess\n",
    "    "
   ]
  },
  {
   "cell_type": "code",
   "execution_count": 42,
   "metadata": {},
   "outputs": [],
   "source": [
    "def pig_latin(word):\n",
    "    if word[0] in ['a','e','i','o','u']:\n",
    "        return word + 'ay'\n",
    "    else:\n",
    "        return word[1:] + word[0] + 'ay'"
   ]
  },
  {
   "cell_type": "code",
   "execution_count": 43,
   "metadata": {},
   "outputs": [
    {
     "data": {
      "text/plain": [
       "'ordway'"
      ]
     },
     "execution_count": 43,
     "metadata": {},
     "output_type": "execute_result"
    }
   ],
   "source": [
    "pig_latin('word')"
   ]
  },
  {
   "cell_type": "code",
   "execution_count": 50,
   "metadata": {},
   "outputs": [],
   "source": [
    "myfile = open('C:\\\\Users\\\\rasou\\\\Desktop\\\\1.txt',mode='w')\n",
    "myfile.write('Ali is in line 1\\n')\n",
    "space=' '*len('Inserting new line')\n",
    "myfile.write(space + '  ' + 'Second Line')\n",
    "myfile.seek(len('Ali is in line 1\\n') + 1 + len('Inserting new line'))\n",
    "myfile.write('\\n')\n",
    "myfile.seek(len('Ali is in line 1\\n') + 1)\n",
    "myfile.write('Inserting new line')\n",
    "myfile.close()"
   ]
  },
  {
   "cell_type": "code",
   "execution_count": null,
   "metadata": {},
   "outputs": [],
   "source": []
  }
 ],
 "metadata": {
  "kernelspec": {
   "display_name": "Python 3",
   "language": "python",
   "name": "python3"
  },
  "language_info": {
   "codemirror_mode": {
    "name": "ipython",
    "version": 3
   },
   "file_extension": ".py",
   "mimetype": "text/x-python",
   "name": "python",
   "nbconvert_exporter": "python",
   "pygments_lexer": "ipython3",
   "version": "3.7.3"
  }
 },
 "nbformat": 4,
 "nbformat_minor": 2
}
